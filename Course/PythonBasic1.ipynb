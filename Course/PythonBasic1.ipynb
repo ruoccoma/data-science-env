{
 "cells": [
  {
   "cell_type": "markdown",
   "metadata": {},
   "source": [
    "# **Python Basics for Data Analysis**\n",
    "### **Module: Data Types and Basic Operations**\n",
    "---\n",
    "\n",
    "Welcome to Python Basics for Data Analysis! This notebook will help you learn about Python data types and basic operations, crucial for working with data in Python. Let's get started!"
   ]
  },
  {
   "cell_type": "markdown",
   "metadata": {},
   "source": [
    "## **1. Data Types in Python**"
   ]
  },
  {
   "cell_type": "markdown",
   "metadata": {},
   "source": [
    "### **1.1 Numeric Types: `int` and `float`**"
   ]
  },
  {
   "cell_type": "code",
   "execution_count": null,
   "metadata": {},
   "outputs": [],
   "source": [
    "# Example: Numeric types\n",
    "x = 10  # Integer\n",
    "y = 3.14  # Float\n",
    "\n",
    "print(\"Integer (x):\", x)\n",
    "print(\"Float (y):\", y)\n",
    "print(\"Addition:\", x + y)\n",
    "print(\"Multiplication:\", x * y)"
   ]
  },
  {
   "cell_type": "markdown",
   "metadata": {},
   "source": [
    "**Exercise 1: Work with Numeric Types**"
   ]
  },
  {
   "cell_type": "code",
   "execution_count": null,
   "metadata": {},
   "outputs": [],
   "source": [
    "# Task: Perform operations with the following variables\n",
    "a = 7\n",
    "b = 2.5\n",
    "\n",
    "# 1. Add a and b\n",
    "# 2. Subtract b from a\n",
    "# 3. Multiply a and b\n",
    "# 4. Divide a by b"
   ]
  },
  {
   "cell_type": "markdown",
   "metadata": {},
   "source": [
    "### **1.2 Strings**"
   ]
  },
  {
   "cell_type": "code",
   "execution_count": null,
   "metadata": {},
   "outputs": [],
   "source": [
    "# Example: Strings\n",
    "name = \"Data Science\"\n",
    "print(\"Original:\", name)\n",
    "print(\"Uppercase:\", name.upper())\n",
    "print(\"First 4 characters:\", name[:4])"
   ]
  },
  {
   "cell_type": "markdown",
   "metadata": {},
   "source": [
    "**Exercise 2: Play with Strings**"
   ]
  },
  {
   "cell_type": "code",
   "execution_count": null,
   "metadata": {},
   "outputs": [],
   "source": [
    "# Task: Given the string below, perform the following:\n",
    "text = \"Python Programming\"\n",
    "\n",
    "# 1. Print the string in lowercase\n",
    "# 2. Print only the first 6 characters\n",
    "# 3. Replace \"Python\" with \"Data Science\""
   ]
  },
  {
   "cell_type": "markdown",
   "metadata": {},
   "source": [
    "### **1.3 Lists**"
   ]
  },
  {
   "cell_type": "code",
   "execution_count": null,
   "metadata": {},
   "outputs": [],
   "source": [
    "# Example: Lists\n",
    "fruits = [\"apple\", \"banana\", \"cherry\"]\n",
    "print(\"Original list:\", fruits)\n",
    "fruits.append(\"orange\")\n",
    "print(\"After appending:\", fruits)"
   ]
  },
  {
   "cell_type": "markdown",
   "metadata": {},
   "source": [
    "**Exercise 3: Modify Lists**"
   ]
  },
  {
   "cell_type": "code",
   "execution_count": null,
   "metadata": {},
   "outputs": [],
   "source": [
    "# Task: Start with the list below\n",
    "numbers = [1, 2, 3, 4]\n",
    "\n",
    "# 1. Add the number 5 to the list\n",
    "# 2. Remove the number 2\n",
    "# 3. Print the length of the list"
   ]
  },
  {
   "cell_type": "markdown",
   "metadata": {},
   "source": [
    "### **1.4 Dictionaries**"
   ]
  },
  {
   "cell_type": "code",
   "execution_count": null,
   "metadata": {},
   "outputs": [],
   "source": [
    "# Example: Dictionaries\n",
    "person = {\"name\": \"Alice\", \"age\": 25, \"city\": \"New York\"}\n",
    "print(\"Name:\", person[\"name\"])\n",
    "print(\"Age:\", person[\"age\"])"
   ]
  },
  {
   "cell_type": "markdown",
   "metadata": {},
   "source": [
    "**Exercise 4: Create a Dictionary**"
   ]
  },
  {
   "cell_type": "code",
   "execution_count": null,
   "metadata": {},
   "outputs": [],
   "source": [
    "# Task: Create a dictionary to store a car's details\n",
    "# Keys: \"Brand\", \"Model\", \"Year\"\n",
    "# Values: \"Toyota\", \"Corolla\", 2022"
   ]
  },
  {
   "cell_type": "markdown",
   "metadata": {},
   "source": [
    "## **2. Basic Operations**"
   ]
  },
  {
   "cell_type": "code",
   "execution_count": null,
   "metadata": {},
   "outputs": [],
   "source": [
    "# Example: Arithmetic operations\n",
    "a = 5\n",
    "b = 3\n",
    "print(\"Addition:\", a + b)\n",
    "print(\"Subtraction:\", a - b)\n",
    "print(\"Multiplication:\", a * b)\n",
    "print(\"Division:\", a / b)\n",
    "print(\"Exponentiation:\", a ** b)"
   ]
  },
  {
   "cell_type": "markdown",
   "metadata": {},
   "source": [
    "### **Summary**\n",
    "- Python's basic data types: numeric, string, list, dictionary.\n",
    "- Arithmetic, comparison, and logical operations are key to data manipulation.\n",
    "---"
   ]
  }
 ],
 "metadata": {
  "kernelspec": {
   "display_name": "Python 3",
   "language": "python",
   "name": "python3"
  },
  "language_info": {
   "codemirror_mode": {
    "name": "ipython",
    "version": 3
   },
   "file_extension": ".py",
   "mimetype": "text/x-python",
   "name": "python",
   "nbconvert_exporter": "python",
   "pygments_lexer": "ipython3",
   "version": "3.8.5"
  }
 },
 "nbformat": 4,
 "nbformat_minor": 5
}
